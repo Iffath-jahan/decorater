{
 "cells": [
  {
   "cell_type": "markdown",
   "id": "9d490207-c4e9-4d29-9ea7-69737fa3ad30",
   "metadata": {},
   "source": [
    "## decorater"
   ]
  },
  {
   "cell_type": "code",
   "execution_count": 1,
   "id": "5248f745-938e-4642-9376-74b2df4d2da7",
   "metadata": {},
   "outputs": [],
   "source": [
    "def first():\n",
    "    print(\"start of the funcation\")\n",
    "    print(4+5)\n",
    "    print(\"end of the funcation\")\n",
    "    "
   ]
  },
  {
   "cell_type": "code",
   "execution_count": 2,
   "id": "7b8ed619-af0e-4795-b59f-9561fe1c5d27",
   "metadata": {},
   "outputs": [
    {
     "name": "stdout",
     "output_type": "stream",
     "text": [
      "start of the funcation\n",
      "9\n",
      "end of the funcation\n"
     ]
    }
   ],
   "source": [
    "first()"
   ]
  },
  {
   "cell_type": "code",
   "execution_count": null,
   "id": "3ce55cf8-af80-4602-9cbf-764dabfbc124",
   "metadata": {},
   "outputs": [],
   "source": []
  },
  {
   "cell_type": "code",
   "execution_count": 11,
   "id": "5752b937-9664-46e3-a976-9ab9ac6f6aae",
   "metadata": {},
   "outputs": [],
   "source": [
    "## let us have condition to show the only that to two print statement\n",
    "## decoraters is nothing but to achive  wt we want , to avoid the repetedness  of an code or statement"
   ]
  },
  {
   "cell_type": "code",
   "execution_count": 8,
   "id": "c965dd78-895f-4ed5-83e9-f7370dd48402",
   "metadata": {},
   "outputs": [],
   "source": [
    "def deco(fun):                             ## here we create a deco\n",
    "    \n",
    "    def inner_deco():                      \n",
    "        print(\"start of the funcation\")\n",
    "        fun()\n",
    "        print(\"end of the funcation\")\n",
    "        return inner_deco\n",
    "    \n",
    "    "
   ]
  },
  {
   "cell_type": "code",
   "execution_count": 10,
   "id": "d071e954-ceb5-4154-96bb-91470e6aa513",
   "metadata": {},
   "outputs": [],
   "source": [
    "@deco\n",
    "def first3():         ## here it is a utilaization of deco\n",
    "    print(3+4)"
   ]
  },
  {
   "cell_type": "code",
   "execution_count": 6,
   "id": "7cf6db2c-37bc-499b-90ec-5a85ba837708",
   "metadata": {},
   "outputs": [
    {
     "name": "stdout",
     "output_type": "stream",
     "text": [
      "start of the funcation\n",
      "9\n",
      "end of the funcation\n"
     ]
    }
   ],
   "source": [
    "first()"
   ]
  },
  {
   "cell_type": "code",
   "execution_count": 12,
   "id": "34f3a266-b42d-4d18-a709-59a77deb4602",
   "metadata": {},
   "outputs": [],
   "source": [
    "## for example any funcation how much time it is going to take to the time complexity so let us know one example"
   ]
  },
  {
   "cell_type": "code",
   "execution_count": 23,
   "id": "1c4449d9-07f3-48ed-8030-ec63eecdc48a",
   "metadata": {},
   "outputs": [],
   "source": [
    "import time\n",
    "def timer_test(fun):\n",
    "    def timer_inner_test():\n",
    "        start=time.time()\n",
    "        fun()\n",
    "        end=time.time()\n",
    "        print(end - start)   ## total time to execute the funcation\n",
    "    return timer_inner_test\n",
    "    "
   ]
  },
  {
   "cell_type": "code",
   "execution_count": 24,
   "id": "41968b6f-2e81-4de2-b87a-bb2bd8104d8d",
   "metadata": {},
   "outputs": [],
   "source": [
    "@timer_test            \n",
    "def test4():\n",
    "    print(345+890)"
   ]
  },
  {
   "cell_type": "code",
   "execution_count": 25,
   "id": "01c9b5ae-a39e-42a6-910e-ed375c25a0ce",
   "metadata": {},
   "outputs": [
    {
     "name": "stdout",
     "output_type": "stream",
     "text": [
      "1235\n",
      "5.459785461425781e-05\n"
     ]
    }
   ],
   "source": [
    "test4()"
   ]
  },
  {
   "cell_type": "code",
   "execution_count": 30,
   "id": "00df769f-96da-48b0-93e3-e2792dcec7a0",
   "metadata": {},
   "outputs": [],
   "source": [
    "@timer_test\n",
    "def test35():\n",
    "    for i in range(100000):\n",
    "        pass"
   ]
  },
  {
   "cell_type": "code",
   "execution_count": 31,
   "id": "7ce39bb5-8b93-47f1-8675-cb71c7f0af49",
   "metadata": {},
   "outputs": [
    {
     "name": "stdout",
     "output_type": "stream",
     "text": [
      "0.0024166107177734375\n"
     ]
    }
   ],
   "source": [
    "test35()"
   ]
  },
  {
   "cell_type": "markdown",
   "id": "abc99da9-3d5b-4f3d-b48d-220fd2ffda68",
   "metadata": {},
   "source": [
    "## class method"
   ]
  },
  {
   "cell_type": "code",
   "execution_count": 2,
   "id": "32004423-cebc-4dd5-af3a-8b8c77dbedf4",
   "metadata": {},
   "outputs": [],
   "source": [
    "class  pwskills:\n",
    "    def __init__(self,name,email):\n",
    "        self.name=name\n",
    "        self.email=email\n",
    "        \n",
    "        \n",
    "    def student_details(self):\n",
    "        print(self.name,self.email)\n",
    "        "
   ]
  },
  {
   "cell_type": "code",
   "execution_count": 3,
   "id": "8bed7d5f-e5d7-4763-b42f-3119dd01a3f2",
   "metadata": {},
   "outputs": [],
   "source": [
    "pw=pwskills(\"iff\",\"jjfgkfkgjl@.com\")"
   ]
  },
  {
   "cell_type": "code",
   "execution_count": 4,
   "id": "ccd9ce51-66a9-4d8c-9851-2faee04faa46",
   "metadata": {},
   "outputs": [
    {
     "data": {
      "text/plain": [
       "'iff'"
      ]
     },
     "execution_count": 4,
     "metadata": {},
     "output_type": "execute_result"
    }
   ],
   "source": [
    "pw.name"
   ]
  },
  {
   "cell_type": "code",
   "execution_count": 5,
   "id": "ff90bb5a-3333-4f3c-82de-dac3a09f9557",
   "metadata": {},
   "outputs": [
    {
     "data": {
      "text/plain": [
       "'jjfgkfkgjl@.com'"
      ]
     },
     "execution_count": 5,
     "metadata": {},
     "output_type": "execute_result"
    }
   ],
   "source": [
    "pw.email"
   ]
  },
  {
   "cell_type": "code",
   "execution_count": 6,
   "id": "0a09e21f-4c36-4a19-91f5-2e7f2ba23c81",
   "metadata": {},
   "outputs": [
    {
     "name": "stdout",
     "output_type": "stream",
     "text": [
      "iff jjfgkfkgjl@.com\n"
     ]
    }
   ],
   "source": [
    "pw.student_details()"
   ]
  },
  {
   "cell_type": "code",
   "execution_count": 8,
   "id": "f318b991-776f-43da-9583-1204ec6faeb3",
   "metadata": {},
   "outputs": [],
   "source": [
    "## @classmethod an inbuilt decorator for any class in python"
   ]
  },
  {
   "cell_type": "code",
   "execution_count": 23,
   "id": "63d1528a-2ae7-4ece-92e5-0304a1e91566",
   "metadata": {},
   "outputs": [],
   "source": [
    "class  pwskills1:\n",
    "    def __init__(self,name,email):   ##here self is pointing to class through init\n",
    "        self.name=name\n",
    "        self.email=email\n",
    "        \n",
    "    @classmethod    \n",
    "    def details(cls,name,email):      ## cls is dirctly binding a method(details) to class \n",
    "        return cls(name,email)      ##by using @classmethod we caan diretly access the classname\n",
    "        \n",
    "        \n",
    "    def student_details(self):\n",
    "        print(self.name,self.email)\n",
    "        "
   ]
  },
  {
   "cell_type": "code",
   "execution_count": 24,
   "id": "4fb99823-958d-4723-bbd7-7eda6cdfcc1a",
   "metadata": {},
   "outputs": [],
   "source": [
    "pw1=pwskills1.details(\"varun\",\"varum@gmail.com\")"
   ]
  },
  {
   "cell_type": "code",
   "execution_count": 25,
   "id": "1c10334e-2a4c-4d7b-b9ef-8988335878eb",
   "metadata": {},
   "outputs": [
    {
     "data": {
      "text/plain": [
       "'varun'"
      ]
     },
     "execution_count": 25,
     "metadata": {},
     "output_type": "execute_result"
    }
   ],
   "source": [
    "pw1.name"
   ]
  },
  {
   "cell_type": "code",
   "execution_count": 27,
   "id": "92742e1d-8039-44a8-8cb9-2e98a50081a6",
   "metadata": {},
   "outputs": [
    {
     "data": {
      "text/plain": [
       "'varum@gmail.com'"
      ]
     },
     "execution_count": 27,
     "metadata": {},
     "output_type": "execute_result"
    }
   ],
   "source": [
    "pw1.email"
   ]
  },
  {
   "cell_type": "code",
   "execution_count": 28,
   "id": "9bab24d7-477d-475b-ab63-cd2c31e29b33",
   "metadata": {},
   "outputs": [
    {
     "name": "stdout",
     "output_type": "stream",
     "text": [
      "varun varum@gmail.com\n"
     ]
    }
   ],
   "source": [
    "pw1.student_details()"
   ]
  },
  {
   "cell_type": "code",
   "execution_count": null,
   "id": "7c66c667-b675-471c-a2c1-d92e98e936be",
   "metadata": {},
   "outputs": [],
   "source": []
  },
  {
   "cell_type": "code",
   "execution_count": 53,
   "id": "70d514c8-d498-4368-b2ef-1b96e72ec7fb",
   "metadata": {},
   "outputs": [],
   "source": [
    "class  pwskills2:\n",
    "    \n",
    "    mobile_number=5747848596950#to accsss the class variable we dont even create object we can directly access it\n",
    "    \n",
    "    def __init__(self,name,email):\n",
    "        self.name=name\n",
    "        self.email=email\n",
    "        \n",
    "    @classmethod    \n",
    "    def details(cls,name,email):      ## cls is dirctly binding a method(details) to class \n",
    "        return cls(name,email)      ##by using @classmethod we caan diretly access the classname\n",
    "        \n",
    "        \n",
    "        \n",
    "    def student_details(self):\n",
    "        print(self.name,self.email,pwskills2.mobile_number)#let us know if how to access class variables inside method\n",
    "        "
   ]
  },
  {
   "cell_type": "code",
   "execution_count": 54,
   "id": "057fc3c4-39e5-431f-ae52-a717731aed96",
   "metadata": {},
   "outputs": [
    {
     "data": {
      "text/plain": [
       "5747848596950"
      ]
     },
     "execution_count": 54,
     "metadata": {},
     "output_type": "execute_result"
    }
   ],
   "source": [
    "pwskills2.mobile_number   ## this is a class variable we can acess directly without creating object "
   ]
  },
  {
   "cell_type": "code",
   "execution_count": 56,
   "id": "f7b86960-9c42-4cc9-84b7-f24aab46ab4b",
   "metadata": {},
   "outputs": [],
   "source": [
    "pw2=pwskills2.details(\"mohan\",\"mohan@gmail.com\")"
   ]
  },
  {
   "cell_type": "code",
   "execution_count": 57,
   "id": "884393c0-7c9e-4a3e-b558-01686bb1adc4",
   "metadata": {},
   "outputs": [
    {
     "name": "stdout",
     "output_type": "stream",
     "text": [
      "mohan mohan@gmail.com 5747848596950\n"
     ]
    }
   ],
   "source": [
    "pw2.student_details()  ## pw2 is variable  calling by creating variable"
   ]
  },
  {
   "cell_type": "code",
   "execution_count": 58,
   "id": "84dcaaed-38c0-4581-8cb4-b6f1aad4c8f5",
   "metadata": {},
   "outputs": [],
   "source": [
    "pw2_obj=pwskills2(\"rohan\",\"rohan@gmail.com\")  ## calling by creatin an object"
   ]
  },
  {
   "cell_type": "code",
   "execution_count": 62,
   "id": "3dec0c09-f758-4249-bcb5-2b865ee29833",
   "metadata": {},
   "outputs": [
    {
     "name": "stdout",
     "output_type": "stream",
     "text": [
      "rohan rohan@gmail.com 5747848596950\n"
     ]
    }
   ],
   "source": [
    "pw2_obj.student_details()"
   ]
  },
  {
   "cell_type": "code",
   "execution_count": 63,
   "id": "b096f1a4-a238-44f8-8349-b323a640ffc1",
   "metadata": {},
   "outputs": [],
   "source": [
    "## let us know an another method to access classvariable and modify it"
   ]
  },
  {
   "cell_type": "code",
   "execution_count": null,
   "id": "c1f5bbd1-be6f-42e0-a629-e10e75fba53d",
   "metadata": {},
   "outputs": [],
   "source": []
  },
  {
   "cell_type": "code",
   "execution_count": 4,
   "id": "0bc56d93-3bad-4993-b672-aa5d5a1d027a",
   "metadata": {},
   "outputs": [],
   "source": [
    "class  pwskills4:\n",
    "    \n",
    "    mobile_number=576770895\n",
    "    def __init__(self,name,email):   ##here self is pointing to class through init\n",
    "        self.name=name\n",
    "        self.email=email\n",
    "        \n",
    "        \n",
    "    @classmethod\n",
    "    def change_number(cls,mobile):\n",
    "        pwskills4.mobile_number=mobile\n",
    "        \n",
    "        \n",
    "    @classmethod    \n",
    "    def details(cls,name1,email1):      ## cls is dirctly binding a method(details) to class \n",
    "        return cls(name1,email1)      ##by using @classmethod we caan diretly access the classname\n",
    "        \n",
    "        \n",
    "    def student_details(self):\n",
    "        print(self.name,self.email)\n",
    "        "
   ]
  },
  {
   "cell_type": "code",
   "execution_count": 3,
   "id": "beef5049-7412-4090-a190-ec9b95749746",
   "metadata": {},
   "outputs": [],
   "source": [
    "pw3=pwskills4(\"somu\",\"somu@gmail.com\")"
   ]
  },
  {
   "cell_type": "code",
   "execution_count": 6,
   "id": "2663cdc6-d656-4768-9cea-f489b85edf35",
   "metadata": {},
   "outputs": [],
   "source": [
    "pw3=pw3.details(\"manii\",\"manii@gmail.com\")"
   ]
  },
  {
   "cell_type": "code",
   "execution_count": 67,
   "id": "e0b8497c-9a68-402e-bab4-84ac2d532755",
   "metadata": {},
   "outputs": [
    {
     "data": {
      "text/plain": [
       "576770895"
      ]
     },
     "execution_count": 67,
     "metadata": {},
     "output_type": "execute_result"
    }
   ],
   "source": [
    "pwskills4.mobile_number"
   ]
  },
  {
   "cell_type": "code",
   "execution_count": 10,
   "id": "5b5eda36-5a88-4800-9f39-d4749ab8c22c",
   "metadata": {},
   "outputs": [
    {
     "data": {
      "text/plain": [
       "'manii'"
      ]
     },
     "execution_count": 10,
     "metadata": {},
     "output_type": "execute_result"
    }
   ],
   "source": [
    "pw3.name"
   ]
  },
  {
   "cell_type": "code",
   "execution_count": 11,
   "id": "599be529-aa53-42dd-bbd0-ef97b18081b1",
   "metadata": {},
   "outputs": [
    {
     "data": {
      "text/plain": [
       "'manii@gmail.com'"
      ]
     },
     "execution_count": 11,
     "metadata": {},
     "output_type": "execute_result"
    }
   ],
   "source": [
    "pw3.email"
   ]
  },
  {
   "cell_type": "code",
   "execution_count": 12,
   "id": "9f78e080-266b-4570-8f7f-79ba54cc7446",
   "metadata": {},
   "outputs": [
    {
     "data": {
      "text/plain": [
       "<bound method pwskills4.details of <class '__main__.pwskills4'>>"
      ]
     },
     "execution_count": 12,
     "metadata": {},
     "output_type": "execute_result"
    }
   ],
   "source": [
    "pw3.details"
   ]
  },
  {
   "cell_type": "code",
   "execution_count": 68,
   "id": "6befe735-269f-4a82-9fdd-17288ed3bfbf",
   "metadata": {},
   "outputs": [],
   "source": [
    "pwskills4.change_number(4567890549) "
   ]
  },
  {
   "cell_type": "code",
   "execution_count": 69,
   "id": "c2c59150-84a2-43ee-b9a7-341dc77cc8cb",
   "metadata": {},
   "outputs": [
    {
     "data": {
      "text/plain": [
       "4567890549"
      ]
     },
     "execution_count": 69,
     "metadata": {},
     "output_type": "execute_result"
    }
   ],
   "source": [
    "pwskills4.mobile_number"
   ]
  },
  {
   "cell_type": "code",
   "execution_count": 14,
   "id": "8950fd56-c9c2-4f9a-8c67-c71963dfab1c",
   "metadata": {},
   "outputs": [],
   "source": [
    "## @classmethod is a global method which can acessible to each and every  all objects"
   ]
  },
  {
   "cell_type": "code",
   "execution_count": null,
   "id": "18cf38b0-a97b-4356-af3f-097c6aaee7c2",
   "metadata": {},
   "outputs": [],
   "source": []
  },
  {
   "cell_type": "code",
   "execution_count": 1,
   "id": "ca653875-f5a6-4147-a811-d8ea17d504ca",
   "metadata": {},
   "outputs": [],
   "source": [
    "class  pwskills5:\n",
    "    \n",
    "    mobile_number=576770895\n",
    "    def __init__(self,name,email):   ##here self is pointing to class through init\n",
    "        self.name=name\n",
    "        self.email=email\n",
    "        \n",
    "        \n",
    "    @classmethod\n",
    "    def change_number(cls,mobile):\n",
    "        pwskills4.mobile_number=mobile\n",
    "        \n",
    "        \n",
    "    @classmethod    \n",
    "    def details(cls,name1,email1):      ## cls is dirctly binding a method(details) to class \n",
    "        return cls(name1,email1)      ##by using @classmethod we caan diretly access the classname\n",
    "        \n",
    "        \n",
    "    def student_details(self):\n",
    "        print(self.name,self.email)\n",
    "        "
   ]
  },
  {
   "cell_type": "code",
   "execution_count": 2,
   "id": "16c8cbf2-475f-416f-a11e-789ede682d0f",
   "metadata": {},
   "outputs": [],
   "source": [
    "def  course_details(cls,course_name): \n",
    "    print(\"course_details\",course_name)  ## it is an external function which is not related to pwskills5\n",
    "    \n",
    "    \n",
    "    "
   ]
  },
  {
   "cell_type": "code",
   "execution_count": 4,
   "id": "90308119-bf1d-487c-a819-7f03fa135465",
   "metadata": {},
   "outputs": [],
   "source": [
    "pwskills5.course_details=classmethod(course_details) ## this how to call an external funcaton to the class"
   ]
  },
  {
   "cell_type": "code",
   "execution_count": 5,
   "id": "db3e502b-b053-422e-8ecb-482cee3213fe",
   "metadata": {},
   "outputs": [
    {
     "name": "stdout",
     "output_type": "stream",
     "text": [
      "course_details data science masters\n"
     ]
    }
   ],
   "source": [
    "pwskills5.course_details(\"data science masters\")"
   ]
  },
  {
   "cell_type": "code",
   "execution_count": 6,
   "id": "f665ccae-79bb-4399-a715-6aca792e8da4",
   "metadata": {},
   "outputs": [],
   "source": [
    "pw33=pwskills5(\"sudhA\",\"sudhA@gmail.com\")"
   ]
  },
  {
   "cell_type": "code",
   "execution_count": 8,
   "id": "d607f661-6f08-4122-b6c7-4ab6e8982f88",
   "metadata": {},
   "outputs": [
    {
     "name": "stdout",
     "output_type": "stream",
     "text": [
      "course_details web deb\n"
     ]
    }
   ],
   "source": [
    "pw33.course_details(\"web deb\")"
   ]
  },
  {
   "cell_type": "code",
   "execution_count": 9,
   "id": "58a6d7d7-333a-4008-abfe-7e321bab26b7",
   "metadata": {},
   "outputs": [],
   "source": [
    "## to perform some sort of operation  like deleation in classs"
   ]
  },
  {
   "cell_type": "code",
   "execution_count": null,
   "id": "15f56113-1bc7-404e-b1eb-31e593d2b9f4",
   "metadata": {},
   "outputs": [],
   "source": []
  },
  {
   "cell_type": "code",
   "execution_count": 10,
   "id": "adcca5a8-35ea-43df-ba4d-275b2fd7b419",
   "metadata": {},
   "outputs": [],
   "source": [
    "class  pwskills6:\n",
    "    \n",
    "    mobile_number=576770895\n",
    "    def __init__(self,name,email):   ##here self is pointing to class through init\n",
    "        self.name=name\n",
    "        self.email=email\n",
    "        \n",
    "        \n",
    "    @classmethod\n",
    "    def change_number(cls,mobile):\n",
    "        pwskills4.mobile_number=mobile\n",
    "        \n",
    "        \n",
    "    @classmethod    \n",
    "    def details(cls,name1,email1):      ## cls is dirctly binding a method(details) to class \n",
    "        return cls(name1,email1)      ##by using @classmethod we caan diretly access the classname\n",
    "        \n",
    "        \n",
    "    def student_details(self):\n",
    "        print(self.name,self.email)\n",
    "        "
   ]
  },
  {
   "cell_type": "code",
   "execution_count": 15,
   "id": "4962d1b3-51c9-4a69-8b98-8b763c5cb424",
   "metadata": {},
   "outputs": [],
   "source": [
    "del pwskills6.student_details  ##here it is funcation called to delete aparticular method"
   ]
  },
  {
   "cell_type": "code",
   "execution_count": 16,
   "id": "60968e00-795b-439a-9ea4-10522cff6ba7",
   "metadata": {},
   "outputs": [],
   "source": [
    "delattr(pwskills6,\"details\")  ## it will also deleate "
   ]
  },
  {
   "cell_type": "markdown",
   "id": "a342f1d5-6ba6-4ba0-8118-896f1dc8fa97",
   "metadata": {},
   "source": [
    "## static Method   by creating this which is available to all class"
   ]
  },
  {
   "cell_type": "code",
   "execution_count": 22,
   "id": "132e9fbb-6de3-424a-b0bc-cf81147b1662",
   "metadata": {},
   "outputs": [],
   "source": [
    "class skills:\n",
    "    def student_details(self,name,mail_id,number):\n",
    "        print(name,mail_id,number)\n",
    "    "
   ]
  },
  {
   "cell_type": "code",
   "execution_count": 25,
   "id": "a2727d8a-e65e-49fa-937e-3f1fc2503678",
   "metadata": {},
   "outputs": [],
   "source": [
    "sk=skills()"
   ]
  },
  {
   "cell_type": "code",
   "execution_count": 27,
   "id": "422ccf40-cc8e-4a8d-a481-09eac48b6906",
   "metadata": {},
   "outputs": [
    {
     "name": "stdout",
     "output_type": "stream",
     "text": [
      "arun arun@gmail.com 112334\n"
     ]
    }
   ],
   "source": [
    "sk.student_details(\"arun\",\"arun@gmail.com\",112334)"
   ]
  },
  {
   "cell_type": "code",
   "execution_count": 28,
   "id": "4da6859d-b468-4682-9458-c1a23732922e",
   "metadata": {},
   "outputs": [],
   "source": [
    "## creating an funcation which cannot be depend on object,we can create 1000s of object to acces the fun data\n",
    "## but which also leads lot of memmory consumation and reapetadlly calling the same again and again  the same\n",
    "## funcation\n"
   ]
  },
  {
   "cell_type": "code",
   "execution_count": null,
   "id": "4ddec479-7e0d-445f-a1ac-49dcf0919b19",
   "metadata": {},
   "outputs": [],
   "source": []
  },
  {
   "cell_type": "code",
   "execution_count": 56,
   "id": "b289630b-133e-4b8a-80da-2444d7875a2a",
   "metadata": {},
   "outputs": [],
   "source": [
    "class skills2:\n",
    "    def student_details(self,name,mail_id,number):\n",
    "        print(name,mail_id,number)\n",
    "        \n",
    "    @staticmethod      ##@satic mehod means which is available to class and it doesn't matter wt ever object it will available to all objects\n",
    "    def mentor_list(list_mentor):\n",
    "        print(list_mentor)\n",
    "        \n",
    "    def mentor(self,mentor_list):\n",
    "        print(mentor_list)\n",
    "        \n",
    "    "
   ]
  },
  {
   "cell_type": "code",
   "execution_count": 35,
   "id": "6769bf40-f2f1-44a5-9c72-040d37e77075",
   "metadata": {},
   "outputs": [],
   "source": [
    "sk=skills2()"
   ]
  },
  {
   "cell_type": "code",
   "execution_count": 39,
   "id": "6115b944-1001-441e-8038-1091c6857079",
   "metadata": {},
   "outputs": [
    {
     "name": "stdout",
     "output_type": "stream",
     "text": [
      "['krish', 'samm']\n"
     ]
    }
   ],
   "source": [
    "sk.mentor([\"krish\",\"samm\"])"
   ]
  },
  {
   "cell_type": "code",
   "execution_count": 40,
   "id": "0e0c0689-323c-4068-971b-f8bc5e6a63b4",
   "metadata": {},
   "outputs": [
    {
     "name": "stdout",
     "output_type": "stream",
     "text": [
      "['krish', 'aman']\n"
     ]
    }
   ],
   "source": [
    "sk.mentor_list([\"krish\",\"aman\"])"
   ]
  },
  {
   "cell_type": "code",
   "execution_count": 33,
   "id": "d02c4594-b381-467f-9d95-814a4bddcbc3",
   "metadata": {},
   "outputs": [
    {
     "name": "stdout",
     "output_type": "stream",
     "text": [
      "['ajay', 'rahem', 'kareem']\n"
     ]
    }
   ],
   "source": [
    "skills2.mentor_list([\"ajay\",\"rahem\",\"kareem\"])   #here we call this fun directlyby classname bez it is a\n",
    "## static in nature which the funcation mentor_list  is directly available to class "
   ]
  },
  {
   "cell_type": "code",
   "execution_count": 41,
   "id": "00c6579c-b7ea-44e4-8505-19d70c5da22e",
   "metadata": {},
   "outputs": [],
   "source": [
    "## acessing a static method in instance method "
   ]
  },
  {
   "cell_type": "code",
   "execution_count": null,
   "id": "2f0debac-5148-44bd-8ec5-cf2db3955950",
   "metadata": {},
   "outputs": [],
   "source": []
  },
  {
   "cell_type": "code",
   "execution_count": 45,
   "id": "fe9fb0db-714f-4707-bac1-0fe162c3a9fb",
   "metadata": {},
   "outputs": [],
   "source": [
    "class skills4:\n",
    "    def student_details(self,name,mail_id,number):\n",
    "        print(name,mail_id,number)\n",
    "        \n",
    "    @staticmethod\n",
    "    def mentor_mail_id(mail_id):\n",
    "        print(mail_id)\n",
    "        \n",
    "    @staticmethod      \n",
    "    def mentor_list(list_mentor):\n",
    "        print(list_mentor)\n",
    "        skills4.mentor_mail_id([\"krisk@gmail.com\",\"sudh@gmail.com\"]) ## acessing static method inside a static method\n",
    "        \n",
    "    @classmethod\n",
    "    def class_name(cls,class_name):\n",
    "        cls.mentor_list([\"ameer\",\"kareem\"]) ## acessing a staticmethod in class method \n",
    "    \n",
    "    \n",
    "        \n",
    "    def mentor(self,mentor_list):\n",
    "        print(mentor_list)\n",
    "        self.mentor_list([\"saleem\",\"Raheem\"]) ## acessing a static method in instance method\n",
    "        \n",
    "    "
   ]
  },
  {
   "cell_type": "code",
   "execution_count": 47,
   "id": "b557ad43-95fd-47f7-b34a-66dbba353732",
   "metadata": {},
   "outputs": [],
   "source": [
    "sk1=skills4()"
   ]
  },
  {
   "cell_type": "code",
   "execution_count": 49,
   "id": "7470902d-cd08-4ab4-be77-da05b386e62d",
   "metadata": {},
   "outputs": [
    {
     "name": "stdout",
     "output_type": "stream",
     "text": [
      "mohan mohan@gmail.com 1345278290\n"
     ]
    }
   ],
   "source": [
    "sk1.student_details(\"mohan\",\"mohan@gmail.com\" ,1345278290)"
   ]
  },
  {
   "cell_type": "code",
   "execution_count": 54,
   "id": "0656ceaf-3773-45fc-a61b-451244fd2155",
   "metadata": {},
   "outputs": [
    {
     "name": "stdout",
     "output_type": "stream",
     "text": [
      "['krish@gmail.com', 'mohan@gmail.com']\n"
     ]
    }
   ],
   "source": [
    "sk1.mentor_mail_id([\"krish@gmail.com\",\"mohan@gmail.com\"])"
   ]
  },
  {
   "cell_type": "code",
   "execution_count": 53,
   "id": "eb7cb4d5-6a55-41f7-809c-acee8d123573",
   "metadata": {},
   "outputs": [
    {
     "name": "stdout",
     "output_type": "stream",
     "text": [
      "['ameer', 'kareem']\n",
      "['krisk@gmail.com', 'sudh@gmail.com']\n"
     ]
    }
   ],
   "source": [
    "sk1.class_name(\"datascience\")"
   ]
  },
  {
   "cell_type": "code",
   "execution_count": 55,
   "id": "22cf9a40-5089-4099-8619-4dcd95dca35d",
   "metadata": {},
   "outputs": [
    {
     "name": "stdout",
     "output_type": "stream",
     "text": [
      "['krish@gmail.com', 'mohan@gmail.com']\n"
     ]
    }
   ],
   "source": [
    "skills4.mentor_mail_id([\"krish@gmail.com\",\"mohan@gmail.com\"])"
   ]
  },
  {
   "cell_type": "markdown",
   "id": "86581ada-8e75-40ee-b354-38984a92324b",
   "metadata": {},
   "source": [
    "## special(magic Dunder)method"
   ]
  },
  {
   "cell_type": "code",
   "execution_count": 58,
   "id": "ae78a514-bf57-4971-95d8-aa2b9f177c84",
   "metadata": {},
   "outputs": [
    {
     "data": {
      "text/plain": [
       "['__abs__',\n",
       " '__add__',\n",
       " '__and__',\n",
       " '__bool__',\n",
       " '__ceil__',\n",
       " '__class__',\n",
       " '__delattr__',\n",
       " '__dir__',\n",
       " '__divmod__',\n",
       " '__doc__',\n",
       " '__eq__',\n",
       " '__float__',\n",
       " '__floor__',\n",
       " '__floordiv__',\n",
       " '__format__',\n",
       " '__ge__',\n",
       " '__getattribute__',\n",
       " '__getnewargs__',\n",
       " '__gt__',\n",
       " '__hash__',\n",
       " '__index__',\n",
       " '__init__',\n",
       " '__init_subclass__',\n",
       " '__int__',\n",
       " '__invert__',\n",
       " '__le__',\n",
       " '__lshift__',\n",
       " '__lt__',\n",
       " '__mod__',\n",
       " '__mul__',\n",
       " '__ne__',\n",
       " '__neg__',\n",
       " '__new__',\n",
       " '__or__',\n",
       " '__pos__',\n",
       " '__pow__',\n",
       " '__radd__',\n",
       " '__rand__',\n",
       " '__rdivmod__',\n",
       " '__reduce__',\n",
       " '__reduce_ex__',\n",
       " '__repr__',\n",
       " '__rfloordiv__',\n",
       " '__rlshift__',\n",
       " '__rmod__',\n",
       " '__rmul__',\n",
       " '__ror__',\n",
       " '__round__',\n",
       " '__rpow__',\n",
       " '__rrshift__',\n",
       " '__rshift__',\n",
       " '__rsub__',\n",
       " '__rtruediv__',\n",
       " '__rxor__',\n",
       " '__setattr__',\n",
       " '__sizeof__',\n",
       " '__str__',\n",
       " '__sub__',\n",
       " '__subclasshook__',\n",
       " '__truediv__',\n",
       " '__trunc__',\n",
       " '__xor__',\n",
       " 'as_integer_ratio',\n",
       " 'bit_count',\n",
       " 'bit_length',\n",
       " 'conjugate',\n",
       " 'denominator',\n",
       " 'from_bytes',\n",
       " 'imag',\n",
       " 'numerator',\n",
       " 'real',\n",
       " 'to_bytes']"
      ]
     },
     "execution_count": 58,
     "metadata": {},
     "output_type": "execute_result"
    }
   ],
   "source": [
    "dir(int)"
   ]
  },
  {
   "cell_type": "code",
   "execution_count": 59,
   "id": "5fac9ff8-7f1d-4313-8e14-19fb3a985cac",
   "metadata": {},
   "outputs": [],
   "source": [
    "a=10"
   ]
  },
  {
   "cell_type": "code",
   "execution_count": 60,
   "id": "a4f9426c-a1f9-41e4-81b5-7a3923084840",
   "metadata": {},
   "outputs": [
    {
     "data": {
      "text/plain": [
       "40"
      ]
     },
     "execution_count": 60,
     "metadata": {},
     "output_type": "execute_result"
    }
   ],
   "source": [
    "a+30"
   ]
  },
  {
   "cell_type": "code",
   "execution_count": 61,
   "id": "17268c1a-d699-43e0-af76-59a991ddfc27",
   "metadata": {},
   "outputs": [
    {
     "data": {
      "text/plain": [
       "16"
      ]
     },
     "execution_count": 61,
     "metadata": {},
     "output_type": "execute_result"
    }
   ],
   "source": [
    "a.__add__(6)"
   ]
  },
  {
   "cell_type": "code",
   "execution_count": 62,
   "id": "32548d78-a82c-4d25-8e53-7341ca1a947b",
   "metadata": {},
   "outputs": [
    {
     "data": {
      "text/plain": [
       "['__add__',\n",
       " '__class__',\n",
       " '__contains__',\n",
       " '__delattr__',\n",
       " '__dir__',\n",
       " '__doc__',\n",
       " '__eq__',\n",
       " '__format__',\n",
       " '__ge__',\n",
       " '__getattribute__',\n",
       " '__getitem__',\n",
       " '__getnewargs__',\n",
       " '__gt__',\n",
       " '__hash__',\n",
       " '__init__',\n",
       " '__init_subclass__',\n",
       " '__iter__',\n",
       " '__le__',\n",
       " '__len__',\n",
       " '__lt__',\n",
       " '__mod__',\n",
       " '__mul__',\n",
       " '__ne__',\n",
       " '__new__',\n",
       " '__reduce__',\n",
       " '__reduce_ex__',\n",
       " '__repr__',\n",
       " '__rmod__',\n",
       " '__rmul__',\n",
       " '__setattr__',\n",
       " '__sizeof__',\n",
       " '__str__',\n",
       " '__subclasshook__',\n",
       " 'capitalize',\n",
       " 'casefold',\n",
       " 'center',\n",
       " 'count',\n",
       " 'encode',\n",
       " 'endswith',\n",
       " 'expandtabs',\n",
       " 'find',\n",
       " 'format',\n",
       " 'format_map',\n",
       " 'index',\n",
       " 'isalnum',\n",
       " 'isalpha',\n",
       " 'isascii',\n",
       " 'isdecimal',\n",
       " 'isdigit',\n",
       " 'isidentifier',\n",
       " 'islower',\n",
       " 'isnumeric',\n",
       " 'isprintable',\n",
       " 'isspace',\n",
       " 'istitle',\n",
       " 'isupper',\n",
       " 'join',\n",
       " 'ljust',\n",
       " 'lower',\n",
       " 'lstrip',\n",
       " 'maketrans',\n",
       " 'partition',\n",
       " 'removeprefix',\n",
       " 'removesuffix',\n",
       " 'replace',\n",
       " 'rfind',\n",
       " 'rindex',\n",
       " 'rjust',\n",
       " 'rpartition',\n",
       " 'rsplit',\n",
       " 'rstrip',\n",
       " 'split',\n",
       " 'splitlines',\n",
       " 'startswith',\n",
       " 'strip',\n",
       " 'swapcase',\n",
       " 'title',\n",
       " 'translate',\n",
       " 'upper',\n",
       " 'zfill']"
      ]
     },
     "execution_count": 62,
     "metadata": {},
     "output_type": "execute_result"
    }
   ],
   "source": [
    "dir(str)"
   ]
  },
  {
   "cell_type": "code",
   "execution_count": 65,
   "id": "edfe1058-6e07-4d45-8346-f3b8aae7ec61",
   "metadata": {},
   "outputs": [],
   "source": [
    "class magic:\n",
    "    def __new__(cls):      ## cls is object which is directly belongs to class\n",
    "        print(\"this is my new\")\n",
    "        \n",
    "    def __int__(self): ## init is basically used to  create a object and assign data to a object inernally \n",
    "        print(\"this is my init\") ## this init calls __new__ method\n",
    "        \n",
    "        "
   ]
  },
  {
   "cell_type": "code",
   "execution_count": 66,
   "id": "88aa0355-bdcf-4405-a1aa-aa46c9b68a18",
   "metadata": {},
   "outputs": [
    {
     "name": "stdout",
     "output_type": "stream",
     "text": [
      "this is my new\n"
     ]
    }
   ],
   "source": [
    "mg=magic()"
   ]
  },
  {
   "cell_type": "code",
   "execution_count": 76,
   "id": "ffc58e51-fb6b-4087-885b-595db949a3d5",
   "metadata": {},
   "outputs": [],
   "source": [
    "class skills2:\n",
    "    def __init__(self):\n",
    "        self.mobile_number=4567788990\n",
    "        \n",
    "        \n",
    "    def __str__(self):\n",
    "        return 'this is my magic method'\n",
    "    "
   ]
  },
  {
   "cell_type": "code",
   "execution_count": 77,
   "id": "0c2fee5a-5200-4638-bf66-5ae96fa2c662",
   "metadata": {},
   "outputs": [],
   "source": [
    "sk4=skills2()"
   ]
  },
  {
   "cell_type": "code",
   "execution_count": 78,
   "id": "4ea8696d-1e46-4535-a4bb-47fcd0b01b7e",
   "metadata": {},
   "outputs": [
    {
     "data": {
      "text/plain": [
       "<__main__.skills2 at 0x7f138d6d8850>"
      ]
     },
     "execution_count": 78,
     "metadata": {},
     "output_type": "execute_result"
    }
   ],
   "source": [
    "sk4"
   ]
  },
  {
   "cell_type": "code",
   "execution_count": 79,
   "id": "068b1f06-9cdc-4bb9-bf75-c1e9c8cafde6",
   "metadata": {},
   "outputs": [
    {
     "name": "stdout",
     "output_type": "stream",
     "text": [
      "this is my magic method\n"
     ]
    }
   ],
   "source": [
    "print(sk4)"
   ]
  },
  {
   "cell_type": "markdown",
   "id": "b516fe96-5e86-4623-a563-f91a2e4b6dcb",
   "metadata": {},
   "source": [
    "## property decorator"
   ]
  },
  {
   "cell_type": "code",
   "execution_count": 174,
   "id": "f59bcef3-3078-4f10-8305-122dee7163ca",
   "metadata": {},
   "outputs": [],
   "source": [
    "class properties:\n",
    "    def __init__(self,course_price,course_name):\n",
    "        self.__course_price=course_price #this is can only acess as a creator \n",
    "        self.course_name=course_name\n",
    "        \n",
    "        \n",
    "    @property ## this decorater property is used to expose private variable to outerside\n",
    "    def course_price_access(self):\n",
    "        return self.__course_price\n",
    "    \n",
    " ## by giving setter property we can give acess to user to use private variable\n",
    "    @course_price_access.setter                      ## by using this fun user can set a price\n",
    "    def course_price_set(self,price):\n",
    "        if price<=3500:\n",
    "            pass\n",
    "        else:\n",
    "            self.__course_price=price\n",
    "            \n",
    "            \n",
    "    @course_price_access.deleter ## this fun is to give acess to delet a funcation to private variable     \n",
    "    def course_price_del(self):\n",
    "        del self.__course_price\n",
    "    \n",
    "    \n",
    "    "
   ]
  },
  {
   "cell_type": "code",
   "execution_count": 153,
   "id": "eae02b7a-78b3-4531-a1e1-f362e364acca",
   "metadata": {},
   "outputs": [],
   "source": [
    "## __ double underscores mmeans we are trying to call private variable\n",
    "## _ protected\n",
    "## no underscore for means public\n"
   ]
  },
  {
   "cell_type": "code",
   "execution_count": 169,
   "id": "813388f4-e5ea-4d40-b3c4-157a2d0fe2ba",
   "metadata": {},
   "outputs": [],
   "source": [
    "pr=properties(34500,\"data science masters\")"
   ]
  },
  {
   "cell_type": "code",
   "execution_count": 170,
   "id": "c156be9c-7024-41b7-bb56-5166dd55faa3",
   "metadata": {},
   "outputs": [
    {
     "data": {
      "text/plain": [
       "34500"
      ]
     },
     "execution_count": 170,
     "metadata": {},
     "output_type": "execute_result"
    }
   ],
   "source": [
    "pr.course_price_access"
   ]
  },
  {
   "cell_type": "code",
   "execution_count": 173,
   "id": "2472240f-b1f3-4391-b271-cc3604dee426",
   "metadata": {},
   "outputs": [],
   "source": [
    "del pr.course_price_del"
   ]
  },
  {
   "cell_type": "code",
   "execution_count": 157,
   "id": "164415b2-be92-42dd-85c3-ec80b71927a0",
   "metadata": {},
   "outputs": [
    {
     "data": {
      "text/plain": [
       "34500"
      ]
     },
     "execution_count": 157,
     "metadata": {},
     "output_type": "execute_result"
    }
   ],
   "source": [
    "pr.course_price_access"
   ]
  },
  {
   "cell_type": "code",
   "execution_count": 158,
   "id": "8ed34ce9-c5f6-49cf-bb7f-c481105036a0",
   "metadata": {},
   "outputs": [
    {
     "data": {
      "text/plain": [
       "34500"
      ]
     },
     "execution_count": 158,
     "metadata": {},
     "output_type": "execute_result"
    }
   ],
   "source": [
    "pr.course_price_set"
   ]
  },
  {
   "cell_type": "code",
   "execution_count": 159,
   "id": "86e06c1c-510b-4252-a6e6-d7296591e836",
   "metadata": {},
   "outputs": [],
   "source": [
    "pr.course_price_set=4500"
   ]
  },
  {
   "cell_type": "code",
   "execution_count": 160,
   "id": "cf74e01e-f76e-4a83-8412-601bd60a560b",
   "metadata": {},
   "outputs": [
    {
     "data": {
      "text/plain": [
       "4500"
      ]
     },
     "execution_count": 160,
     "metadata": {},
     "output_type": "execute_result"
    }
   ],
   "source": [
    "pr.course_price_set"
   ]
  },
  {
   "cell_type": "code",
   "execution_count": 161,
   "id": "2e1c43cc-af81-4b91-be5b-1f528ac54620",
   "metadata": {},
   "outputs": [
    {
     "data": {
      "text/plain": [
       "4500"
      ]
     },
     "execution_count": 161,
     "metadata": {},
     "output_type": "execute_result"
    }
   ],
   "source": [
    "pr._properties__course_price   ##here we are acessing a private variable"
   ]
  },
  {
   "cell_type": "code",
   "execution_count": 151,
   "id": "cb1a1dd2-6c8a-4cf2-bddf-664efac36ee4",
   "metadata": {},
   "outputs": [
    {
     "ename": "NameError",
     "evalue": "name 'course_price_del' is not defined",
     "output_type": "error",
     "traceback": [
      "\u001b[0;31m---------------------------------------------------------------------------\u001b[0m",
      "\u001b[0;31mNameError\u001b[0m                                 Traceback (most recent call last)",
      "Cell \u001b[0;32mIn[151], line 1\u001b[0m\n\u001b[0;32m----> 1\u001b[0m \u001b[38;5;28;01mdel\u001b[39;00m course_price_del\n",
      "\u001b[0;31mNameError\u001b[0m: name 'course_price_del' is not defined"
     ]
    }
   ],
   "source": [
    "del course_price_del"
   ]
  },
  {
   "cell_type": "code",
   "execution_count": null,
   "id": "38770a15-6627-4c15-add0-fd59c38d2f8c",
   "metadata": {},
   "outputs": [],
   "source": []
  }
 ],
 "metadata": {
  "kernelspec": {
   "display_name": "Python 3 (ipykernel)",
   "language": "python",
   "name": "python3"
  },
  "language_info": {
   "codemirror_mode": {
    "name": "ipython",
    "version": 3
   },
   "file_extension": ".py",
   "mimetype": "text/x-python",
   "name": "python",
   "nbconvert_exporter": "python",
   "pygments_lexer": "ipython3",
   "version": "3.10.8"
  }
 },
 "nbformat": 4,
 "nbformat_minor": 5
}
